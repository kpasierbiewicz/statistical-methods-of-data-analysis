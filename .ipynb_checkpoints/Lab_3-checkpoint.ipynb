{
 "cells": [
  {
   "cell_type": "markdown",
   "id": "mental-canon",
   "metadata": {},
   "source": [
    "# Redukcja wymiaru danych\n",
    "\n",
    "I.\tProszę zredukować wymiar zbioru danych seeds z UCI Machine Learning Repository do N=2 korzystając z metody PCA. Wyłączamy ostatnią kolumnę – etykietę klasy.<br /> \n",
    "W Pythonie to klasa sklearn.decomposition.PCA. W Matlabie – funkcja pca.\n",
    "II.\tProszę wykreślić dane w przestrzeni dwuwymiarowej zaznaczając na wykresie kolorystycznie etykiety klasy. Czy widzicie Państwo jakiś wzorzec?<br />\n",
    "III.\tProszę nie dokonywać redukcji – ustalając N=n (wtedy PCA będzie realizowało jedynie obrót danych) i sprawdzić jaki wkład mają poszczególne osie (w Pythonie: pca.explained_variance_ratio_; w Matlabie – explained, zwracane przez pca) . Czy można zauważyć że część osi ma pomijalnie mały wkład i można by je wyrzucić?<br />\n",
    "IV.\tJeżeli zdążycie – proszę zweryfikować działanie t-SNE.<br />"
   ]
  },
  {
   "cell_type": "code",
   "execution_count": 1,
   "id": "higher-radical",
   "metadata": {},
   "outputs": [],
   "source": [
    "import pandas as pd"
   ]
  },
  {
   "cell_type": "code",
   "execution_count": 2,
   "id": "conscious-roulette",
   "metadata": {},
   "outputs": [
    {
     "data": {
      "text/html": [
       "<div>\n",
       "<style scoped>\n",
       "    .dataframe tbody tr th:only-of-type {\n",
       "        vertical-align: middle;\n",
       "    }\n",
       "\n",
       "    .dataframe tbody tr th {\n",
       "        vertical-align: top;\n",
       "    }\n",
       "\n",
       "    .dataframe thead th {\n",
       "        text-align: right;\n",
       "    }\n",
       "</style>\n",
       "<table border=\"1\" class=\"dataframe\">\n",
       "  <thead>\n",
       "    <tr style=\"text-align: right;\">\n",
       "      <th></th>\n",
       "      <th>area A</th>\n",
       "      <th>perimeter P</th>\n",
       "      <th>compactness C = 4*pi*A/P^2</th>\n",
       "      <th>length of kernel</th>\n",
       "      <th>width of kernel</th>\n",
       "      <th>asymmetry coefficient</th>\n",
       "      <th>length of kernel groove</th>\n",
       "      <th>class</th>\n",
       "    </tr>\n",
       "  </thead>\n",
       "  <tbody>\n",
       "    <tr>\n",
       "      <th>0</th>\n",
       "      <td>15.26</td>\n",
       "      <td>14.84</td>\n",
       "      <td>0.8710</td>\n",
       "      <td>5.763</td>\n",
       "      <td>3.312</td>\n",
       "      <td>2.221</td>\n",
       "      <td>5.220</td>\n",
       "      <td>1.0</td>\n",
       "    </tr>\n",
       "    <tr>\n",
       "      <th>1</th>\n",
       "      <td>14.88</td>\n",
       "      <td>14.57</td>\n",
       "      <td>0.8811</td>\n",
       "      <td>5.554</td>\n",
       "      <td>3.333</td>\n",
       "      <td>1.018</td>\n",
       "      <td>4.956</td>\n",
       "      <td>1.0</td>\n",
       "    </tr>\n",
       "    <tr>\n",
       "      <th>2</th>\n",
       "      <td>14.29</td>\n",
       "      <td>14.09</td>\n",
       "      <td>0.9050</td>\n",
       "      <td>5.291</td>\n",
       "      <td>3.337</td>\n",
       "      <td>2.699</td>\n",
       "      <td>4.825</td>\n",
       "      <td>1.0</td>\n",
       "    </tr>\n",
       "    <tr>\n",
       "      <th>3</th>\n",
       "      <td>13.84</td>\n",
       "      <td>13.94</td>\n",
       "      <td>0.8955</td>\n",
       "      <td>5.324</td>\n",
       "      <td>3.379</td>\n",
       "      <td>2.259</td>\n",
       "      <td>4.805</td>\n",
       "      <td>1.0</td>\n",
       "    </tr>\n",
       "    <tr>\n",
       "      <th>4</th>\n",
       "      <td>16.14</td>\n",
       "      <td>14.99</td>\n",
       "      <td>0.9034</td>\n",
       "      <td>5.658</td>\n",
       "      <td>3.562</td>\n",
       "      <td>1.355</td>\n",
       "      <td>5.175</td>\n",
       "      <td>1.0</td>\n",
       "    </tr>\n",
       "    <tr>\n",
       "      <th>...</th>\n",
       "      <td>...</td>\n",
       "      <td>...</td>\n",
       "      <td>...</td>\n",
       "      <td>...</td>\n",
       "      <td>...</td>\n",
       "      <td>...</td>\n",
       "      <td>...</td>\n",
       "      <td>...</td>\n",
       "    </tr>\n",
       "    <tr>\n",
       "      <th>205</th>\n",
       "      <td>12.19</td>\n",
       "      <td>13.20</td>\n",
       "      <td>0.8783</td>\n",
       "      <td>5.137</td>\n",
       "      <td>2.981</td>\n",
       "      <td>3.631</td>\n",
       "      <td>4.870</td>\n",
       "      <td>3.0</td>\n",
       "    </tr>\n",
       "    <tr>\n",
       "      <th>206</th>\n",
       "      <td>11.23</td>\n",
       "      <td>12.88</td>\n",
       "      <td>0.8511</td>\n",
       "      <td>5.140</td>\n",
       "      <td>2.795</td>\n",
       "      <td>4.325</td>\n",
       "      <td>5.003</td>\n",
       "      <td>3.0</td>\n",
       "    </tr>\n",
       "    <tr>\n",
       "      <th>207</th>\n",
       "      <td>13.20</td>\n",
       "      <td>13.66</td>\n",
       "      <td>0.8883</td>\n",
       "      <td>5.236</td>\n",
       "      <td>3.232</td>\n",
       "      <td>8.315</td>\n",
       "      <td>5.056</td>\n",
       "      <td>3.0</td>\n",
       "    </tr>\n",
       "    <tr>\n",
       "      <th>208</th>\n",
       "      <td>11.84</td>\n",
       "      <td>13.21</td>\n",
       "      <td>0.8521</td>\n",
       "      <td>5.175</td>\n",
       "      <td>2.836</td>\n",
       "      <td>3.598</td>\n",
       "      <td>5.044</td>\n",
       "      <td>3.0</td>\n",
       "    </tr>\n",
       "    <tr>\n",
       "      <th>209</th>\n",
       "      <td>12.30</td>\n",
       "      <td>13.34</td>\n",
       "      <td>0.8684</td>\n",
       "      <td>5.243</td>\n",
       "      <td>2.974</td>\n",
       "      <td>5.637</td>\n",
       "      <td>5.063</td>\n",
       "      <td>3.0</td>\n",
       "    </tr>\n",
       "  </tbody>\n",
       "</table>\n",
       "<p>210 rows × 8 columns</p>\n",
       "</div>"
      ],
      "text/plain": [
       "     area A  perimeter P  compactness C = 4*pi*A/P^2  length of kernel  \\\n",
       "0     15.26        14.84                      0.8710             5.763   \n",
       "1     14.88        14.57                      0.8811             5.554   \n",
       "2     14.29        14.09                      0.9050             5.291   \n",
       "3     13.84        13.94                      0.8955             5.324   \n",
       "4     16.14        14.99                      0.9034             5.658   \n",
       "..      ...          ...                         ...               ...   \n",
       "205   12.19        13.20                      0.8783             5.137   \n",
       "206   11.23        12.88                      0.8511             5.140   \n",
       "207   13.20        13.66                      0.8883             5.236   \n",
       "208   11.84        13.21                      0.8521             5.175   \n",
       "209   12.30        13.34                      0.8684             5.243   \n",
       "\n",
       "     width of kernel  asymmetry coefficient  length of kernel groove  class  \n",
       "0              3.312                  2.221                    5.220    1.0  \n",
       "1              3.333                  1.018                    4.956    1.0  \n",
       "2              3.337                  2.699                    4.825    1.0  \n",
       "3              3.379                  2.259                    4.805    1.0  \n",
       "4              3.562                  1.355                    5.175    1.0  \n",
       "..               ...                    ...                      ...    ...  \n",
       "205            2.981                  3.631                    4.870    3.0  \n",
       "206            2.795                  4.325                    5.003    3.0  \n",
       "207            3.232                  8.315                    5.056    3.0  \n",
       "208            2.836                  3.598                    5.044    3.0  \n",
       "209            2.974                  5.637                    5.063    3.0  \n",
       "\n",
       "[210 rows x 8 columns]"
      ]
     },
     "execution_count": 2,
     "metadata": {},
     "output_type": "execute_result"
    }
   ],
   "source": [
    "df = pd.read_csv('seeds_dataset.txt', delimiter = \"\\t\", header=None, names=[\"area A\", \"perimeter P\", \"compactness C = 4*pi*A/P^2\", \"length of kernel\", \"width of kernel\", \"asymmetry coefficient\", \"length of kernel groove\", \"class\"])\n",
    "df"
   ]
  },
  {
   "cell_type": "code",
   "execution_count": 3,
   "id": "sound-vector",
   "metadata": {
    "scrolled": true
   },
   "outputs": [],
   "source": [
    "from sklearn.impute import KNNImputer\n",
    "imputer = KNNImputer(n_neighbors=2)\n",
    "imputed = imputer.fit_transform(df)\n",
    "df_imputed = pd.DataFrame(imputed, columns=df.columns)\n",
    "df = df_imputed\n",
    "df_new = df.drop('class', axis=1)"
   ]
  },
  {
   "cell_type": "code",
   "execution_count": 4,
   "id": "dimensional-hospital",
   "metadata": {},
   "outputs": [
    {
     "data": {
      "text/html": [
       "<div>\n",
       "<style scoped>\n",
       "    .dataframe tbody tr th:only-of-type {\n",
       "        vertical-align: middle;\n",
       "    }\n",
       "\n",
       "    .dataframe tbody tr th {\n",
       "        vertical-align: top;\n",
       "    }\n",
       "\n",
       "    .dataframe thead th {\n",
       "        text-align: right;\n",
       "    }\n",
       "</style>\n",
       "<table border=\"1\" class=\"dataframe\">\n",
       "  <thead>\n",
       "    <tr style=\"text-align: right;\">\n",
       "      <th></th>\n",
       "      <th>area A</th>\n",
       "      <th>perimeter P</th>\n",
       "      <th>compactness C = 4*pi*A/P^2</th>\n",
       "      <th>length of kernel</th>\n",
       "      <th>width of kernel</th>\n",
       "      <th>asymmetry coefficient</th>\n",
       "      <th>length of kernel groove</th>\n",
       "    </tr>\n",
       "  </thead>\n",
       "  <tbody>\n",
       "    <tr>\n",
       "      <th>0</th>\n",
       "      <td>15.26</td>\n",
       "      <td>14.84</td>\n",
       "      <td>0.8710</td>\n",
       "      <td>5.763</td>\n",
       "      <td>3.312</td>\n",
       "      <td>2.221</td>\n",
       "      <td>5.220</td>\n",
       "    </tr>\n",
       "    <tr>\n",
       "      <th>1</th>\n",
       "      <td>14.88</td>\n",
       "      <td>14.57</td>\n",
       "      <td>0.8811</td>\n",
       "      <td>5.554</td>\n",
       "      <td>3.333</td>\n",
       "      <td>1.018</td>\n",
       "      <td>4.956</td>\n",
       "    </tr>\n",
       "    <tr>\n",
       "      <th>2</th>\n",
       "      <td>14.29</td>\n",
       "      <td>14.09</td>\n",
       "      <td>0.9050</td>\n",
       "      <td>5.291</td>\n",
       "      <td>3.337</td>\n",
       "      <td>2.699</td>\n",
       "      <td>4.825</td>\n",
       "    </tr>\n",
       "    <tr>\n",
       "      <th>3</th>\n",
       "      <td>13.84</td>\n",
       "      <td>13.94</td>\n",
       "      <td>0.8955</td>\n",
       "      <td>5.324</td>\n",
       "      <td>3.379</td>\n",
       "      <td>2.259</td>\n",
       "      <td>4.805</td>\n",
       "    </tr>\n",
       "    <tr>\n",
       "      <th>4</th>\n",
       "      <td>16.14</td>\n",
       "      <td>14.99</td>\n",
       "      <td>0.9034</td>\n",
       "      <td>5.658</td>\n",
       "      <td>3.562</td>\n",
       "      <td>1.355</td>\n",
       "      <td>5.175</td>\n",
       "    </tr>\n",
       "    <tr>\n",
       "      <th>...</th>\n",
       "      <td>...</td>\n",
       "      <td>...</td>\n",
       "      <td>...</td>\n",
       "      <td>...</td>\n",
       "      <td>...</td>\n",
       "      <td>...</td>\n",
       "      <td>...</td>\n",
       "    </tr>\n",
       "    <tr>\n",
       "      <th>205</th>\n",
       "      <td>12.19</td>\n",
       "      <td>13.20</td>\n",
       "      <td>0.8783</td>\n",
       "      <td>5.137</td>\n",
       "      <td>2.981</td>\n",
       "      <td>3.631</td>\n",
       "      <td>4.870</td>\n",
       "    </tr>\n",
       "    <tr>\n",
       "      <th>206</th>\n",
       "      <td>11.23</td>\n",
       "      <td>12.88</td>\n",
       "      <td>0.8511</td>\n",
       "      <td>5.140</td>\n",
       "      <td>2.795</td>\n",
       "      <td>4.325</td>\n",
       "      <td>5.003</td>\n",
       "    </tr>\n",
       "    <tr>\n",
       "      <th>207</th>\n",
       "      <td>13.20</td>\n",
       "      <td>13.66</td>\n",
       "      <td>0.8883</td>\n",
       "      <td>5.236</td>\n",
       "      <td>3.232</td>\n",
       "      <td>8.315</td>\n",
       "      <td>5.056</td>\n",
       "    </tr>\n",
       "    <tr>\n",
       "      <th>208</th>\n",
       "      <td>11.84</td>\n",
       "      <td>13.21</td>\n",
       "      <td>0.8521</td>\n",
       "      <td>5.175</td>\n",
       "      <td>2.836</td>\n",
       "      <td>3.598</td>\n",
       "      <td>5.044</td>\n",
       "    </tr>\n",
       "    <tr>\n",
       "      <th>209</th>\n",
       "      <td>12.30</td>\n",
       "      <td>13.34</td>\n",
       "      <td>0.8684</td>\n",
       "      <td>5.243</td>\n",
       "      <td>2.974</td>\n",
       "      <td>5.637</td>\n",
       "      <td>5.063</td>\n",
       "    </tr>\n",
       "  </tbody>\n",
       "</table>\n",
       "<p>210 rows × 7 columns</p>\n",
       "</div>"
      ],
      "text/plain": [
       "     area A  perimeter P  compactness C = 4*pi*A/P^2  length of kernel  \\\n",
       "0     15.26        14.84                      0.8710             5.763   \n",
       "1     14.88        14.57                      0.8811             5.554   \n",
       "2     14.29        14.09                      0.9050             5.291   \n",
       "3     13.84        13.94                      0.8955             5.324   \n",
       "4     16.14        14.99                      0.9034             5.658   \n",
       "..      ...          ...                         ...               ...   \n",
       "205   12.19        13.20                      0.8783             5.137   \n",
       "206   11.23        12.88                      0.8511             5.140   \n",
       "207   13.20        13.66                      0.8883             5.236   \n",
       "208   11.84        13.21                      0.8521             5.175   \n",
       "209   12.30        13.34                      0.8684             5.243   \n",
       "\n",
       "     width of kernel  asymmetry coefficient  length of kernel groove  \n",
       "0              3.312                  2.221                    5.220  \n",
       "1              3.333                  1.018                    4.956  \n",
       "2              3.337                  2.699                    4.825  \n",
       "3              3.379                  2.259                    4.805  \n",
       "4              3.562                  1.355                    5.175  \n",
       "..               ...                    ...                      ...  \n",
       "205            2.981                  3.631                    4.870  \n",
       "206            2.795                  4.325                    5.003  \n",
       "207            3.232                  8.315                    5.056  \n",
       "208            2.836                  3.598                    5.044  \n",
       "209            2.974                  5.637                    5.063  \n",
       "\n",
       "[210 rows x 7 columns]"
      ]
     },
     "execution_count": 4,
     "metadata": {},
     "output_type": "execute_result"
    }
   ],
   "source": [
    "df_new"
   ]
  },
  {
   "cell_type": "markdown",
   "id": "opened-praise",
   "metadata": {},
   "source": [
    "### I.\tProszę zredukować wymiar zbioru danych seeds z UCI Machine Learning Repository do N=2 korzystając z metody PCA. Wyłączamy ostatnią kolumnę – etykietę klasy. \n",
    "W Pythonie to klasa sklearn.decomposition.PCA. W Matlabie – funkcja pca.\n"
   ]
  },
  {
   "cell_type": "code",
   "execution_count": 5,
   "id": "hearing-quantity",
   "metadata": {},
   "outputs": [],
   "source": [
    "from sklearn.decomposition import PCA\n",
    "from sklearn.preprocessing import StandardScaler\n",
    "pca = PCA(n_components=2)\n",
    "features = ['area A', 'perimeter P', 'compactness C = 4*pi*A/P^2', 'length of kernel', 'width of kernel', 'asymmetry coefficient', 'length of kernel groove']\n",
    "\n",
    "x = df_new.loc[:, features].values\n",
    "principalComponents = pca.fit_transform(x)\n",
    "X = principalComponents\n",
    "X\n",
    "Y = df['class']"
   ]
  },
  {
   "cell_type": "markdown",
   "id": "guilty-reducing",
   "metadata": {},
   "source": [
    "### II.\tProszę wykreślić dane w przestrzeni dwuwymiarowej zaznaczając na wykresie kolorystycznie etykiety klasy. Czy widzicie Państwo jakiś wzorzec?"
   ]
  },
  {
   "cell_type": "code",
   "execution_count": 6,
   "id": "social-israeli",
   "metadata": {},
   "outputs": [
    {
     "data": {
      "image/png": "[encoded data removed]",
      "text/plain": [
       "<Figure size 432x288 with 1 Axes>"
      ]
     },
     "metadata": {
      "needs_background": "light"
     },
     "output_type": "display_data"
    }
   ],
   "source": [
    "import matplotlib.pyplot as plt\n",
    "plot = plt.scatter(X[:,0], X[:,1], c=Y)"
   ]
  },
  {
   "cell_type": "markdown",
   "id": "fallen-laptop",
   "metadata": {},
   "source": [
    "### III.\tProszę nie dokonywać redukcji – ustalając N=n (wtedy PCA będzie realizowało jedynie obrót danych) i sprawdzić jaki wkład mają poszczególne osie (w Pythonie: pca.explained_variance_ratio_; w Matlabie – explained, zwracane przez pca) . Czy można zauważyć że część osi ma pomijalnie mały wkład i można by je wyrzucić?"
   ]
  },
  {
   "cell_type": "code",
   "execution_count": 7,
   "id": "engaging-findings",
   "metadata": {},
   "outputs": [
    {
     "data": {
      "text/plain": [
       "array([[ 0.88457068,  0.39569561,  0.00407476,  0.14520235,  0.1014511 ,\n",
       "        -0.11451731,  0.12826859],\n",
       "       [ 0.09183693,  0.05004096, -0.00280649,  0.03851969, -0.01590088,\n",
       "         0.99141166,  0.06648551]])"
      ]
     },
     "execution_count": 7,
     "metadata": {},
     "output_type": "execute_result"
    }
   ],
   "source": [
    "X = pca.components_\n",
    "X"
   ]
  },
  {
   "cell_type": "code",
   "execution_count": 8,
   "id": "extreme-crack",
   "metadata": {},
   "outputs": [
    {
     "data": {
      "text/plain": [
       "array([0.8057608 , 0.15914876])"
      ]
     },
     "execution_count": 8,
     "metadata": {},
     "output_type": "execute_result"
    }
   ],
   "source": [
    "Y = pca.explained_variance_ratio_\n",
    "Y"
   ]
  },
  {
   "cell_type": "code",
   "execution_count": 9,
   "id": "competent-hudson",
   "metadata": {},
   "outputs": [
    {
     "data": {
      "image/png": "[encoded data removed]",
      "text/plain": [
       "<Figure size 432x288 with 1 Axes>"
      ]
     },
     "metadata": {
      "needs_background": "light"
     },
     "output_type": "display_data"
    }
   ],
   "source": [
    "plot = plt.scatter(X[:,0], X[:,1], c=Y)"
   ]
  },
  {
   "cell_type": "markdown",
   "id": "raising-delay",
   "metadata": {},
   "source": [
    "### IV.\tJeżeli zdążycie – proszę zweryfikować działanie t-SNE"
   ]
  },
  {
   "cell_type": "code",
   "execution_count": 10,
   "id": "talented-discipline",
   "metadata": {},
   "outputs": [
    {
     "name": "stdout",
     "output_type": "stream",
     "text": [
      "[t-SNE] Computing 91 nearest neighbors...\n",
      "[t-SNE] Indexed 210 samples in 0.000s...\n",
      "[t-SNE] Computed neighbors for 210 samples in 0.000s...\n",
      "[t-SNE] Computed conditional probabilities for sample 210 / 210\n",
      "[t-SNE] Mean sigma: 1.006287\n",
      "[t-SNE] KL divergence after 250 iterations with early exaggeration: 54.241226\n",
      "[t-SNE] KL divergence after 850 iterations: 0.239513\n"
     ]
    }
   ],
   "source": [
    "from sklearn.manifold import TSNE\n",
    "X = df_new\n",
    "Y = df['class']\n",
    "tsne = TSNE(n_components=2, verbose=1, random_state=123)\n",
    "z = tsne.fit_transform(X)"
   ]
  },
  {
   "cell_type": "code",
   "execution_count": 20,
   "id": "physical-traffic",
   "metadata": {},
   "outputs": [
    {
     "data": {
      "image/png": "[encoded data removed]",
      "text/plain": [
       "<Figure size 432x288 with 1 Axes>"
      ]
     },
     "metadata": {
      "needs_background": "light"
     },
     "output_type": "display_data"
    }
   ],
   "source": [
    "plot = plt.scatter(z[:,0], z[:,1], c=Y)"
   ]
  }
 ],
 "metadata": {
  "kernelspec": {
   "display_name": "Python 3",
   "language": "python",
   "name": "python3"
  },
  "language_info": {
   "codemirror_mode": {
    "name": "ipython",
    "version": 3
   },
   "file_extension": ".py",
   "mimetype": "text/x-python",
   "name": "python",
   "nbconvert_exporter": "python",
   "pygments_lexer": "ipython3",
   "version": "3.8.5"
  }
 },
 "nbformat": 4,
 "nbformat_minor": 5
}
