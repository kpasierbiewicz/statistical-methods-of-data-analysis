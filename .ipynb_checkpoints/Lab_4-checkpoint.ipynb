{
 "cells": [
  {
   "cell_type": "markdown",
   "id": "derived-canyon",
   "metadata": {},
   "source": [
    "# Analiza skupień\n",
    "\n",
    "Proszę dokonać klasteryzacji hierarchicznej (Matlab: linkage, Python: https://scikit-learn.org/stable/modules/generated/sklearn.cluster.AgglomerativeClustering.html#sklearn.cluster.AgglomerativeClustering)  na zbiorze seeds z UCI Machine Learning repository. Proszę wykreślić dendrogram (Matlab: dendrogram; Python: https://scikit-learn.org/stable/auto_examples/cluster/plot_agglomerative_dendrogram.html). Jaka wydaje się optymalna liczba klastrów? \n",
    "Dla klastrów proszę policzyć osobne średnie wartości atrybutów.\n",
    "Poza tym proszę wykreślić wynik klasteryzacji na danych zredukowanych do dwóch wymiarów z kolorystycznym oznaczeniem klastrów (Matlab: https://www.mathworks.com/help/stats/gscatter.html ; Python: https://jakevdp.github.io/PythonDataScienceHandbook/05.11-k-means.html) \n",
    "Proszę te same rozwiązania procesu klasteryzacji uzyskać z użyciem k-średnich (przy założeniu wybranej wartości k – zaobserwowanej w poprzednim kroku). \n"
   ]
  },
  {
   "cell_type": "markdown",
   "id": "rural-correspondence",
   "metadata": {},
   "source": [
    "### 1. \n",
    "Proszę dokonać klasteryzacji hierarchicznej (Matlab: linkage, Python: https://scikit-learn.org/stable/modules/generated/sklearn.cluster.AgglomerativeClustering.html#sklearn.cluster.AgglomerativeClustering) na zbiorze seeds z UCI Machine Learning repository. Proszę wykreślić dendrogram (Matlab: dendrogram; Python: https://scikit-learn.org/stable/auto_examples/cluster/plot_agglomerative_dendrogram.html). Jaka wydaje się optymalna liczba klastrów? "
   ]
  },
  {
   "cell_type": "code",
   "execution_count": 1,
   "id": "acceptable-north",
   "metadata": {
    "scrolled": true
   },
   "outputs": [
    {
     "data": {
      "text/html": [
       "<div>\n",
       "<style scoped>\n",
       "    .dataframe tbody tr th:only-of-type {\n",
       "        vertical-align: middle;\n",
       "    }\n",
       "\n",
       "    .dataframe tbody tr th {\n",
       "        vertical-align: top;\n",
       "    }\n",
       "\n",
       "    .dataframe thead th {\n",
       "        text-align: right;\n",
       "    }\n",
       "</style>\n",
       "<table border=\"1\" class=\"dataframe\">\n",
       "  <thead>\n",
       "    <tr style=\"text-align: right;\">\n",
       "      <th></th>\n",
       "      <th>area A</th>\n",
       "      <th>perimeter P</th>\n",
       "      <th>compactness C = 4*pi*A/P^2</th>\n",
       "      <th>length of kernel</th>\n",
       "      <th>width of kernel</th>\n",
       "      <th>asymmetry coefficient</th>\n",
       "      <th>length of kernel groove</th>\n",
       "      <th>class</th>\n",
       "    </tr>\n",
       "  </thead>\n",
       "  <tbody>\n",
       "    <tr>\n",
       "      <th>0</th>\n",
       "      <td>15.26</td>\n",
       "      <td>14.84</td>\n",
       "      <td>0.8710</td>\n",
       "      <td>5.763</td>\n",
       "      <td>3.312</td>\n",
       "      <td>2.221</td>\n",
       "      <td>5.220</td>\n",
       "      <td>1.0</td>\n",
       "    </tr>\n",
       "    <tr>\n",
       "      <th>1</th>\n",
       "      <td>14.88</td>\n",
       "      <td>14.57</td>\n",
       "      <td>0.8811</td>\n",
       "      <td>5.554</td>\n",
       "      <td>3.333</td>\n",
       "      <td>1.018</td>\n",
       "      <td>4.956</td>\n",
       "      <td>1.0</td>\n",
       "    </tr>\n",
       "    <tr>\n",
       "      <th>2</th>\n",
       "      <td>14.29</td>\n",
       "      <td>14.09</td>\n",
       "      <td>0.9050</td>\n",
       "      <td>5.291</td>\n",
       "      <td>3.337</td>\n",
       "      <td>2.699</td>\n",
       "      <td>4.825</td>\n",
       "      <td>1.0</td>\n",
       "    </tr>\n",
       "    <tr>\n",
       "      <th>3</th>\n",
       "      <td>13.84</td>\n",
       "      <td>13.94</td>\n",
       "      <td>0.8955</td>\n",
       "      <td>5.324</td>\n",
       "      <td>3.379</td>\n",
       "      <td>2.259</td>\n",
       "      <td>4.805</td>\n",
       "      <td>1.0</td>\n",
       "    </tr>\n",
       "    <tr>\n",
       "      <th>4</th>\n",
       "      <td>16.14</td>\n",
       "      <td>14.99</td>\n",
       "      <td>0.9034</td>\n",
       "      <td>5.658</td>\n",
       "      <td>3.562</td>\n",
       "      <td>1.355</td>\n",
       "      <td>5.175</td>\n",
       "      <td>1.0</td>\n",
       "    </tr>\n",
       "    <tr>\n",
       "      <th>...</th>\n",
       "      <td>...</td>\n",
       "      <td>...</td>\n",
       "      <td>...</td>\n",
       "      <td>...</td>\n",
       "      <td>...</td>\n",
       "      <td>...</td>\n",
       "      <td>...</td>\n",
       "      <td>...</td>\n",
       "    </tr>\n",
       "    <tr>\n",
       "      <th>205</th>\n",
       "      <td>12.19</td>\n",
       "      <td>13.20</td>\n",
       "      <td>0.8783</td>\n",
       "      <td>5.137</td>\n",
       "      <td>2.981</td>\n",
       "      <td>3.631</td>\n",
       "      <td>4.870</td>\n",
       "      <td>3.0</td>\n",
       "    </tr>\n",
       "    <tr>\n",
       "      <th>206</th>\n",
       "      <td>11.23</td>\n",
       "      <td>12.88</td>\n",
       "      <td>0.8511</td>\n",
       "      <td>5.140</td>\n",
       "      <td>2.795</td>\n",
       "      <td>4.325</td>\n",
       "      <td>5.003</td>\n",
       "      <td>3.0</td>\n",
       "    </tr>\n",
       "    <tr>\n",
       "      <th>207</th>\n",
       "      <td>13.20</td>\n",
       "      <td>13.66</td>\n",
       "      <td>0.8883</td>\n",
       "      <td>5.236</td>\n",
       "      <td>3.232</td>\n",
       "      <td>8.315</td>\n",
       "      <td>5.056</td>\n",
       "      <td>3.0</td>\n",
       "    </tr>\n",
       "    <tr>\n",
       "      <th>208</th>\n",
       "      <td>11.84</td>\n",
       "      <td>13.21</td>\n",
       "      <td>0.8521</td>\n",
       "      <td>5.175</td>\n",
       "      <td>2.836</td>\n",
       "      <td>3.598</td>\n",
       "      <td>5.044</td>\n",
       "      <td>3.0</td>\n",
       "    </tr>\n",
       "    <tr>\n",
       "      <th>209</th>\n",
       "      <td>12.30</td>\n",
       "      <td>13.34</td>\n",
       "      <td>0.8684</td>\n",
       "      <td>5.243</td>\n",
       "      <td>2.974</td>\n",
       "      <td>5.637</td>\n",
       "      <td>5.063</td>\n",
       "      <td>3.0</td>\n",
       "    </tr>\n",
       "  </tbody>\n",
       "</table>\n",
       "<p>210 rows × 8 columns</p>\n",
       "</div>"
      ],
      "text/plain": [
       "     area A  perimeter P  compactness C = 4*pi*A/P^2  length of kernel  \\\n",
       "0     15.26        14.84                      0.8710             5.763   \n",
       "1     14.88        14.57                      0.8811             5.554   \n",
       "2     14.29        14.09                      0.9050             5.291   \n",
       "3     13.84        13.94                      0.8955             5.324   \n",
       "4     16.14        14.99                      0.9034             5.658   \n",
       "..      ...          ...                         ...               ...   \n",
       "205   12.19        13.20                      0.8783             5.137   \n",
       "206   11.23        12.88                      0.8511             5.140   \n",
       "207   13.20        13.66                      0.8883             5.236   \n",
       "208   11.84        13.21                      0.8521             5.175   \n",
       "209   12.30        13.34                      0.8684             5.243   \n",
       "\n",
       "     width of kernel  asymmetry coefficient  length of kernel groove  class  \n",
       "0              3.312                  2.221                    5.220    1.0  \n",
       "1              3.333                  1.018                    4.956    1.0  \n",
       "2              3.337                  2.699                    4.825    1.0  \n",
       "3              3.379                  2.259                    4.805    1.0  \n",
       "4              3.562                  1.355                    5.175    1.0  \n",
       "..               ...                    ...                      ...    ...  \n",
       "205            2.981                  3.631                    4.870    3.0  \n",
       "206            2.795                  4.325                    5.003    3.0  \n",
       "207            3.232                  8.315                    5.056    3.0  \n",
       "208            2.836                  3.598                    5.044    3.0  \n",
       "209            2.974                  5.637                    5.063    3.0  \n",
       "\n",
       "[210 rows x 8 columns]"
      ]
     },
     "execution_count": 1,
     "metadata": {},
     "output_type": "execute_result"
    }
   ],
   "source": [
    "import pandas as pd\n",
    "df = pd.read_csv('seeds_dataset.txt', delimiter = \"\\t\", header=None, names=[\"area A\", \"perimeter P\", \"compactness C = 4*pi*A/P^2\", \"length of kernel\", \"width of kernel\", \"asymmetry coefficient\", \"length of kernel groove\", \"class\"])\n",
    "df"
   ]
  },
  {
   "cell_type": "code",
   "execution_count": 2,
   "id": "honey-candidate",
   "metadata": {
    "scrolled": true
   },
   "outputs": [
    {
     "data": {
      "text/plain": [
       "area A                        0\n",
       "perimeter P                   0\n",
       "compactness C = 4*pi*A/P^2    3\n",
       "length of kernel              0\n",
       "width of kernel               1\n",
       "asymmetry coefficient         0\n",
       "length of kernel groove       4\n",
       "class                         4\n",
       "dtype: int64"
      ]
     },
     "execution_count": 2,
     "metadata": {},
     "output_type": "execute_result"
    }
   ],
   "source": [
    "df.isnull().sum()"
   ]
  },
  {
   "cell_type": "code",
   "execution_count": 3,
   "id": "planned-starter",
   "metadata": {},
   "outputs": [],
   "source": [
    "from sklearn.impute import KNNImputer\n",
    "imputer = KNNImputer(n_neighbors=2)\n",
    "imputed = imputer.fit_transform(df)\n",
    "df = pd.DataFrame(imputed, columns=df.columns)"
   ]
  },
  {
   "cell_type": "code",
   "execution_count": 4,
   "id": "natural-intelligence",
   "metadata": {},
   "outputs": [
    {
     "data": {
      "text/plain": [
       "array([0, 0, 0, 0, 0, 0, 0, 0, 0, 0, 1, 0, 0, 0, 0, 0, 0, 0, 0, 0, 0, 0,\n",
       "       0, 0, 0, 0, 0, 0, 0, 0, 0, 0, 0, 0, 0, 1, 0, 0, 0, 0, 0, 0, 0, 1,\n",
       "       0, 0, 0, 0, 0, 0, 0, 1, 0, 0, 0, 0, 0, 0, 0, 0, 0, 0, 0, 0, 0, 0,\n",
       "       0, 0, 0, 0, 1, 1, 1, 1, 1, 1, 1, 1, 1, 1, 1, 1, 1, 1, 1, 1, 1, 1,\n",
       "       1, 1, 1, 1, 1, 1, 1, 1, 1, 1, 1, 1, 1, 1, 1, 1, 1, 1, 1, 1, 1, 1,\n",
       "       1, 1, 1, 1, 1, 1, 1, 1, 1, 1, 1, 1, 1, 1, 0, 1, 1, 1, 1, 1, 1, 1,\n",
       "       1, 1, 1, 0, 1, 0, 0, 1, 0, 0, 0, 0, 0, 0, 0, 0, 0, 0, 0, 0, 0, 0,\n",
       "       0, 0, 0, 0, 0, 0, 0, 0, 0, 0, 0, 0, 0, 0, 0, 0, 0, 0, 0, 0, 0, 0,\n",
       "       0, 0, 0, 0, 0, 0, 0, 0, 0, 0, 0, 0, 0, 0, 0, 0, 0, 0, 0, 0, 0, 0,\n",
       "       0, 0, 0, 0, 0, 0, 0, 0, 0, 0, 0, 0], dtype=int64)"
      ]
     },
     "execution_count": 4,
     "metadata": {},
     "output_type": "execute_result"
    }
   ],
   "source": [
    "from sklearn.cluster import AgglomerativeClustering\n",
    "clustering = AgglomerativeClustering().fit(df)\n",
    "clustering\n",
    "clustering.labels_"
   ]
  },
  {
   "cell_type": "markdown",
   "id": "charged-democrat",
   "metadata": {},
   "source": [
    "### 2.\n",
    "Proszę wykreślić dendrogram (Matlab: dendrogram; Python: https://scikit-learn.org/stable/auto_examples/cluster/plot_agglomerative_dendrogram.html). Jaka wydaje się optymalna liczba klastrów? "
   ]
  },
  {
   "cell_type": "code",
   "execution_count": 5,
   "id": "compatible-cartridge",
   "metadata": {},
   "outputs": [
    {
     "data": {
      "image/png": "[encoded data removed]",
      "text/plain": [
       "<Figure size 432x288 with 1 Axes>"
      ]
     },
     "metadata": {
      "needs_background": "light"
     },
     "output_type": "display_data"
    }
   ],
   "source": [
    "import numpy as np\n",
    "\n",
    "from matplotlib import pyplot as plt\n",
    "from scipy.cluster.hierarchy import dendrogram\n",
    "from sklearn.datasets import load_iris\n",
    "from sklearn.cluster import AgglomerativeClustering\n",
    "\n",
    "\n",
    "def plot_dendrogram(model, **kwargs):\n",
    "    # Create linkage matrix and then plot the dendrogram\n",
    "\n",
    "    # create the counts of samples under each node\n",
    "    counts = np.zeros(model.children_.shape[0])\n",
    "    n_samples = len(model.labels_)\n",
    "    for i, merge in enumerate(model.children_):\n",
    "        current_count = 0\n",
    "        for child_idx in merge:\n",
    "            if child_idx < n_samples:\n",
    "                current_count += 1  # leaf node\n",
    "            else:\n",
    "                current_count += counts[child_idx - n_samples]\n",
    "        counts[i] = current_count\n",
    "\n",
    "    linkage_matrix = np.column_stack(\n",
    "        [model.children_, model.distances_, counts]\n",
    "    ).astype(float)\n",
    "\n",
    "    # Plot the corresponding dendrogram\n",
    "    dendrogram(linkage_matrix, **kwargs)\n",
    "\n",
    "X = df\n",
    "\n",
    "# setting distance_threshold=0 ensures we compute the full tree.\n",
    "model = AgglomerativeClustering(distance_threshold=0, n_clusters=None)\n",
    "\n",
    "model = model.fit(X)\n",
    "plt.title(\"Hierarchical Clustering Dendrogram\")\n",
    "# plot the top three levels of the dendrogram\n",
    "plot_dendrogram(model, truncate_mode=\"level\", p=2)\n",
    "plt.xlabel(\"Number of points in node (or index of point if no parenthesis).\")\n",
    "plt.show()"
   ]
  },
  {
   "cell_type": "markdown",
   "id": "fifty-advocate",
   "metadata": {},
   "source": [
    "### 3.\n",
    " Dla klastrów proszę policzyć osobne średnie wartości atrybutów. Poza tym proszę wykreślić wynik klasteryzacji na danych zredukowanych do dwóch wymiarów z kolorystycznym oznaczeniem klastrów (Matlab: https://www.mathworks.com/help/stats/gscatter.html ; Python: https://jakevdp.github.io/PythonDataScienceHandbook/05.11-k-means.html) Proszę te same rozwiązania procesu klasteryzacji uzyskać z użyciem k-średnich (przy założeniu wybranej wartości k – zaobserwowanej w poprzednim kroku)."
   ]
  },
  {
   "cell_type": "code",
   "execution_count": 6,
   "id": "deadly-violence",
   "metadata": {},
   "outputs": [],
   "source": [
    "from sklearn.decomposition import PCA\n",
    "from sklearn.preprocessing import StandardScaler\n",
    "pca = PCA(n_components=2)\n",
    "features = ['area A', 'perimeter P', 'compactness C = 4*pi*A/P^2', 'length of kernel', 'width of kernel', 'asymmetry coefficient', 'length of kernel groove', 'class']\n",
    "\n",
    "x = df.loc[:, features].values\n",
    "principalComponents = pca.fit_transform(x)\n",
    "X = principalComponents\n",
    "Y = df['class']"
   ]
  },
  {
   "cell_type": "code",
   "execution_count": 7,
   "id": "parallel-ontario",
   "metadata": {},
   "outputs": [],
   "source": [
    "from sklearn.metrics import pairwise_distances_argmin\n",
    "def find_clusters(X, n_clusters, rseed=2):\n",
    "    rng = np.random.RandomState(rseed)\n",
    "    i = rng.permutation(X.shape[0])[:n_clusters]\n",
    "    centers = X[i]\n",
    "    print(\"\\nConverging centres:\")\n",
    "    while True:\n",
    "        \n",
    "        labels = pairwise_distances_argmin(X, centers)\n",
    "\n",
    "        new_centers = np.array([X[labels == i].mean(0) for i in range(n_clusters)])\n",
    "        print('Mean')\n",
    "        print(new_centers.mean())\n",
    "        \n",
    "        if np.all(centers == new_centers):\n",
    "            break\n",
    "        centers = new_centers\n",
    "\n",
    "        print(centers)\n",
    "        print()\n",
    "\n",
    "    return centers, labels"
   ]
  },
  {
   "cell_type": "code",
   "execution_count": 8,
   "id": "essential-local",
   "metadata": {},
   "outputs": [
    {
     "name": "stdout",
     "output_type": "stream",
     "text": [
      "\n",
      "Converging centres:\n",
      "Mean\n",
      "-0.10519710272909899\n",
      "[[ 1.96551007 -0.40853308]\n",
      " [-3.41116159  0.53688186]\n",
      " [-3.09951081  3.78563093]]\n",
      "\n",
      "Mean\n",
      "-0.11202599625472305\n",
      "[[ 2.46690085 -0.22675949]\n",
      " [-3.13339164 -0.01175321]\n",
      " [-2.82472243  3.05756993]]\n",
      "\n",
      "Mean\n",
      "-0.17338490792227304\n",
      "[[ 2.84886829 -0.09246326]\n",
      " [-2.72619632 -0.35883114]\n",
      " [-3.1559312   2.44424418]]\n",
      "\n",
      "Mean\n",
      "-0.22726099469318137\n",
      "[[ 3.12841972  0.01764226]\n",
      " [-2.28177741 -0.71968338]\n",
      " [-3.40421197  1.89604481]]\n",
      "\n",
      "Mean\n",
      "-0.1835401230437025\n",
      "[[ 3.49025644  0.21402549]\n",
      " [-1.59370678 -1.05645908]\n",
      " [-3.6018478   1.44649099]]\n",
      "\n",
      "Mean\n",
      "-0.09685130517280564\n",
      "[[ 3.76195852  0.37166205]\n",
      " [-0.88432212 -1.29987811]\n",
      " [-3.5844783   1.05395014]]\n",
      "\n",
      "Mean\n",
      "0.006477922418666478\n",
      "[[ 4.02090068  0.4799716 ]\n",
      " [-0.598259   -1.26809362]\n",
      " [-3.56883789  0.97318577]]\n",
      "\n",
      "Mean\n",
      "0.062099905515216346\n",
      "[[ 4.13238292  0.51745953]\n",
      " [-0.33766011 -1.26501365]\n",
      " [-3.49419837  0.81962912]]\n",
      "\n",
      "Mean\n",
      "0.08795823979846394\n",
      "[[ 4.17152305  0.52073263]\n",
      " [-0.19433214 -1.27393764]\n",
      " [-3.43394332  0.73770685]]\n",
      "\n",
      "Mean\n",
      "0.1336791919794043\n",
      "[[ 4.28644674  0.54619082]\n",
      " [-0.11251985 -1.22180609]\n",
      " [-3.43394332  0.73770685]]\n",
      "\n",
      "Mean\n",
      "0.13686406984702662\n",
      "[[ 4.28644674  0.54619082]\n",
      " [-0.08438127 -1.22734623]\n",
      " [-3.41689798  0.71717234]]\n",
      "\n",
      "Mean\n",
      "0.15520023518988837\n",
      "[[ 4.32942559  0.54329097]\n",
      " [-0.03725169 -1.21493957]\n",
      " [-3.39497194  0.70564805]]\n",
      "\n",
      "Mean\n",
      "0.15520023518988837\n"
     ]
    },
    {
     "data": {
      "image/png": "[encoded data removed]",
      "text/plain": [
       "<Figure size 432x288 with 1 Axes>"
      ]
     },
     "metadata": {
      "needs_background": "light"
     },
     "output_type": "display_data"
    }
   ],
   "source": [
    "clust_num = 3\n",
    "centers, labels = find_clusters(X, clust_num)\n",
    "plt.scatter(X[:, 0], X[:, 1], c=labels, s=50, cmap='viridis')\n",
    "plt.show()"
   ]
  }
 ],
 "metadata": {
  "kernelspec": {
   "display_name": "Python 3",
   "language": "python",
   "name": "python3"
  },
  "language_info": {
   "codemirror_mode": {
    "name": "ipython",
    "version": 3
   },
   "file_extension": ".py",
   "mimetype": "text/x-python",
   "name": "python",
   "nbconvert_exporter": "python",
   "pygments_lexer": "ipython3",
   "version": "3.8.5"
  }
 },
 "nbformat": 4,
 "nbformat_minor": 5
}
